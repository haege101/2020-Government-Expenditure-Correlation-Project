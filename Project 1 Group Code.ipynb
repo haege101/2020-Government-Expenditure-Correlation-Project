{
 "cells": [
  {
   "cell_type": "code",
   "execution_count": 55,
   "id": "e606c70c",
   "metadata": {},
   "outputs": [],
   "source": [
    "import requests\n",
    "import holoviews as hv\n",
    "import pandas as pd\n",
    "import numpy as np\n",
    "pd.options.plotting.backend = 'holoviews'\n",
    "%matplotlib inline"
   ]
  },
  {
   "cell_type": "code",
   "execution_count": 56,
   "id": "071207f5",
   "metadata": {},
   "outputs": [],
   "source": [
    "rest_api_str_q1 = 'https://api.pro.coinbase.com/products/BTC-USD/candles?start=\"01-01-2020\"&end=\"03-31-2020\"&granularity=86400'"
   ]
  },
  {
   "cell_type": "code",
   "execution_count": 57,
   "id": "8b3c147d",
   "metadata": {},
   "outputs": [],
   "source": [
    "rest_api_str_q2 = 'https://api.pro.coinbase.com/products/BTC-USD/candles?start=\"04-01-2020\"&end=\"06-30-2020\"&granularity=86400'"
   ]
  },
  {
   "cell_type": "code",
   "execution_count": 58,
   "id": "173fe3ba",
   "metadata": {},
   "outputs": [],
   "source": [
    "rest_api_str_q3 = 'https://api.pro.coinbase.com/products/BTC-USD/candles?start=\"07-01-2020\"&end=\"09-30-2020\"&granularity=86400'"
   ]
  },
  {
   "cell_type": "code",
   "execution_count": 59,
   "id": "f999fd64",
   "metadata": {},
   "outputs": [],
   "source": [
    "rest_api_str_q4 = 'https://api.pro.coinbase.com/products/BTC-USD/candles?start=\"10-01-2020\"&end=\"12-31-2020\"&granularity=86400'"
   ]
  },
  {
   "cell_type": "code",
   "execution_count": 66,
   "id": "5caaf874",
   "metadata": {},
   "outputs": [],
   "source": [
    "response_1 = requests.get(rest_api_str_q1)"
   ]
  },
  {
   "cell_type": "code",
   "execution_count": 67,
   "id": "5332be34",
   "metadata": {},
   "outputs": [],
   "source": [
    "response_2 = requests.get(rest_api_str_q2)"
   ]
  },
  {
   "cell_type": "code",
   "execution_count": 68,
   "id": "8eb5acce",
   "metadata": {},
   "outputs": [],
   "source": [
    "response_3 = requests.get(rest_api_str_q3)"
   ]
  },
  {
   "cell_type": "code",
   "execution_count": 69,
   "id": "47640267",
   "metadata": {},
   "outputs": [],
   "source": [
    "response_4 = requests.get(rest_api_str_q4)"
   ]
  },
  {
   "cell_type": "code",
   "execution_count": 70,
   "id": "4b471215",
   "metadata": {},
   "outputs": [],
   "source": [
    "btc_data_q1 = response_1.json()"
   ]
  },
  {
   "cell_type": "code",
   "execution_count": 71,
   "id": "4283f7df",
   "metadata": {},
   "outputs": [],
   "source": [
    "btc_data_q2 = response_2.json()"
   ]
  },
  {
   "cell_type": "code",
   "execution_count": 72,
   "id": "739c5675",
   "metadata": {},
   "outputs": [],
   "source": [
    "btc_data_q3 = response_3.json()"
   ]
  },
  {
   "cell_type": "code",
   "execution_count": 73,
   "id": "27166f02",
   "metadata": {},
   "outputs": [],
   "source": [
    "btc_data_q4 = response_4.json()"
   ]
  },
  {
   "cell_type": "code",
   "execution_count": 83,
   "id": "321356fc",
   "metadata": {},
   "outputs": [
    {
     "data": {
      "text/plain": [
       "<Response [200]>"
      ]
     },
     "execution_count": 83,
     "metadata": {},
     "output_type": "execute_result"
    }
   ],
   "source": [
    "(rest_api_str_q1)"
   ]
  },
  {
   "cell_type": "code",
   "execution_count": 76,
   "id": "c714a242",
   "metadata": {},
   "outputs": [],
   "source": [
    "btc_df_q1 = pd.DataFrame(btc_data_q1)"
   ]
  },
  {
   "cell_type": "code",
   "execution_count": 77,
   "id": "c134bc2b",
   "metadata": {},
   "outputs": [],
   "source": [
    "btc_df_q2 = pd.DataFrame(btc_data_q2)"
   ]
  },
  {
   "cell_type": "code",
   "execution_count": 78,
   "id": "c750c9ec",
   "metadata": {},
   "outputs": [],
   "source": [
    "btc_df_q3 = pd.DataFrame(btc_data_q3)"
   ]
  },
  {
   "cell_type": "code",
   "execution_count": 79,
   "id": "6192e919",
   "metadata": {},
   "outputs": [],
   "source": [
    "btc_df_q4 = pd.DataFrame(btc_data_q4)"
   ]
  },
  {
   "cell_type": "code",
   "execution_count": 81,
   "id": "6f7d5c47",
   "metadata": {},
   "outputs": [
    {
     "data": {
      "text/html": [
       "<div>\n",
       "<style scoped>\n",
       "    .dataframe tbody tr th:only-of-type {\n",
       "        vertical-align: middle;\n",
       "    }\n",
       "\n",
       "    .dataframe tbody tr th {\n",
       "        vertical-align: top;\n",
       "    }\n",
       "\n",
       "    .dataframe thead th {\n",
       "        text-align: right;\n",
       "    }\n",
       "</style>\n",
       "<table border=\"1\" class=\"dataframe\">\n",
       "  <thead>\n",
       "    <tr style=\"text-align: right;\">\n",
       "      <th></th>\n",
       "      <th>0</th>\n",
       "      <th>1</th>\n",
       "      <th>2</th>\n",
       "      <th>3</th>\n",
       "      <th>4</th>\n",
       "      <th>5</th>\n",
       "    </tr>\n",
       "  </thead>\n",
       "  <tbody>\n",
       "    <tr>\n",
       "      <th>0</th>\n",
       "      <td>1601424000</td>\n",
       "      <td>10657.04</td>\n",
       "      <td>10847.00</td>\n",
       "      <td>10839.98</td>\n",
       "      <td>10779.63</td>\n",
       "      <td>6318.529438</td>\n",
       "    </tr>\n",
       "    <tr>\n",
       "      <th>1</th>\n",
       "      <td>1601337600</td>\n",
       "      <td>10636.13</td>\n",
       "      <td>10860.79</td>\n",
       "      <td>10694.90</td>\n",
       "      <td>10840.73</td>\n",
       "      <td>8200.782653</td>\n",
       "    </tr>\n",
       "    <tr>\n",
       "      <th>2</th>\n",
       "      <td>1601251200</td>\n",
       "      <td>10621.22</td>\n",
       "      <td>10956.11</td>\n",
       "      <td>10779.00</td>\n",
       "      <td>10695.55</td>\n",
       "      <td>8876.061568</td>\n",
       "    </tr>\n",
       "    <tr>\n",
       "      <th>3</th>\n",
       "      <td>1601164800</td>\n",
       "      <td>10595.24</td>\n",
       "      <td>10806.32</td>\n",
       "      <td>10730.00</td>\n",
       "      <td>10778.20</td>\n",
       "      <td>3880.036861</td>\n",
       "    </tr>\n",
       "    <tr>\n",
       "      <th>4</th>\n",
       "      <td>1601078400</td>\n",
       "      <td>10654.58</td>\n",
       "      <td>10828.00</td>\n",
       "      <td>10690.53</td>\n",
       "      <td>10730.00</td>\n",
       "      <td>3783.397400</td>\n",
       "    </tr>\n",
       "  </tbody>\n",
       "</table>\n",
       "</div>"
      ],
      "text/plain": [
       "            0         1         2         3         4            5\n",
       "0  1601424000  10657.04  10847.00  10839.98  10779.63  6318.529438\n",
       "1  1601337600  10636.13  10860.79  10694.90  10840.73  8200.782653\n",
       "2  1601251200  10621.22  10956.11  10779.00  10695.55  8876.061568\n",
       "3  1601164800  10595.24  10806.32  10730.00  10778.20  3880.036861\n",
       "4  1601078400  10654.58  10828.00  10690.53  10730.00  3783.397400"
      ]
     },
     "execution_count": 81,
     "metadata": {},
     "output_type": "execute_result"
    }
   ],
   "source": [
    "btc_df_q1.set_index()"
   ]
  },
  {
   "cell_type": "code",
   "execution_count": null,
   "id": "8626ed41",
   "metadata": {},
   "outputs": [],
   "source": []
  }
 ],
 "metadata": {
  "kernelspec": {
   "display_name": "Python 3 (ipykernel)",
   "language": "python",
   "name": "python3"
  },
  "language_info": {
   "codemirror_mode": {
    "name": "ipython",
    "version": 3
   },
   "file_extension": ".py",
   "mimetype": "text/x-python",
   "name": "python",
   "nbconvert_exporter": "python",
   "pygments_lexer": "ipython3",
   "version": "3.7.10"
  }
 },
 "nbformat": 4,
 "nbformat_minor": 5
}
