{
 "cells": [
  {
   "cell_type": "code",
   "execution_count": 30,
   "id": "dbbe5e09",
   "metadata": {},
   "outputs": [],
   "source": [
    "import requests\n",
    "import holoviews as hv\n",
    "import pandas as pd\n",
    "import numpy as np\n",
    "%matplotlib inline"
   ]
  },
  {
   "cell_type": "code",
   "execution_count": 31,
   "id": "f8ef898b",
   "metadata": {},
   "outputs": [],
   "source": [
    "rest_api_str_q1 = 'https://api.pro.coinbase.com/products/ADA-USD/candles?start=\"01-01-2020\"&end=\"03-31-2020\"&granularity=86400'"
   ]
  },
  {
   "cell_type": "code",
   "execution_count": 32,
   "id": "94cb7478",
   "metadata": {},
   "outputs": [],
   "source": [
    "rest_api_str_q2 = 'https://api.pro.coinbase.com/products/ADA-USD/candles?start=\"04-01-2020\"&end=\"06-30-2020\"&granularity=86400'"
   ]
  },
  {
   "cell_type": "code",
   "execution_count": 33,
   "id": "e6d65757",
   "metadata": {},
   "outputs": [],
   "source": [
    "rest_api_str_q3 = 'https://api.pro.coinbase.com/products/ADA-USD/candles?start=\"07-01-2020\"&end=\"09-30-2020\"&granularity=86400'"
   ]
  },
  {
   "cell_type": "code",
   "execution_count": 34,
   "id": "e2c96278",
   "metadata": {},
   "outputs": [],
   "source": [
    "rest_api_str_q4 = 'https://api.pro.coinbase.com/products/ADA-USD/candles?start=\"07-01-2020\"&end=\"09-30-2020\"&granularity=86400'"
   ]
  },
  {
   "cell_type": "code",
   "execution_count": 35,
   "id": "2d25c3cc",
   "metadata": {},
   "outputs": [],
   "source": [
    "response_1 = requests.get(rest_api_str_q1)"
   ]
  },
  {
   "cell_type": "code",
   "execution_count": 36,
   "id": "30bae169",
   "metadata": {},
   "outputs": [],
   "source": [
    "response_2 = requests.get(rest_api_str_q2)"
   ]
  },
  {
   "cell_type": "code",
   "execution_count": 37,
   "id": "8f1ab841",
   "metadata": {},
   "outputs": [],
   "source": [
    "response_3 = requests.get(rest_api_str_q3)"
   ]
  },
  {
   "cell_type": "code",
   "execution_count": 38,
   "id": "cefd81b7",
   "metadata": {},
   "outputs": [],
   "source": [
    "response_4 = requests.get(rest_api_str_q4)"
   ]
  },
  {
   "cell_type": "code",
   "execution_count": 39,
   "id": "198063e0",
   "metadata": {},
   "outputs": [],
   "source": [
    "ada_data_q1 = response_1.json()"
   ]
  },
  {
   "cell_type": "code",
   "execution_count": 40,
   "id": "b01bd4cc",
   "metadata": {},
   "outputs": [],
   "source": [
    "ada_data_q2 = response_2.json()"
   ]
  },
  {
   "cell_type": "code",
   "execution_count": 41,
   "id": "380a9694",
   "metadata": {},
   "outputs": [],
   "source": [
    "ada_data_q3 = response_3.json()"
   ]
  },
  {
   "cell_type": "code",
   "execution_count": 42,
   "id": "148c0707",
   "metadata": {},
   "outputs": [],
   "source": [
    "ada_data_q4 = response_4.json()"
   ]
  },
  {
   "cell_type": "code",
   "execution_count": 43,
   "id": "49c7f323",
   "metadata": {},
   "outputs": [],
   "source": [
    "ada_df_q1 = pd.DataFrame(ada_data_q1)"
   ]
  },
  {
   "cell_type": "code",
   "execution_count": 44,
   "id": "991abc62",
   "metadata": {},
   "outputs": [],
   "source": [
    "ada_df_q2 = pd.DataFrame(ada_data_q2)"
   ]
  },
  {
   "cell_type": "code",
   "execution_count": 45,
   "id": "1e209775",
   "metadata": {},
   "outputs": [],
   "source": [
    "ada_df_q3 = pd.DataFrame(ada_data_q3)"
   ]
  },
  {
   "cell_type": "code",
   "execution_count": 46,
   "id": "b38469a8",
   "metadata": {},
   "outputs": [],
   "source": [
    "ada_df_q4 = pd.DataFrame(ada_data_q4)"
   ]
  },
  {
   "cell_type": "code",
   "execution_count": 47,
   "id": "a9c66473",
   "metadata": {},
   "outputs": [
    {
     "ename": "ValueError",
     "evalue": "Length mismatch: Expected axis has 0 elements, new values have 6 elements",
     "output_type": "error",
     "traceback": [
      "\u001b[0;31m---------------------------------------------------------------------------\u001b[0m",
      "\u001b[0;31mValueError\u001b[0m                                Traceback (most recent call last)",
      "\u001b[0;32m<ipython-input-47-0989f61aff48>\u001b[0m in \u001b[0;36m<module>\u001b[0;34m\u001b[0m\n\u001b[0;32m----> 1\u001b[0;31m \u001b[0mada_df_q1\u001b[0m\u001b[0;34m.\u001b[0m\u001b[0mcolumns\u001b[0m \u001b[0;34m=\u001b[0m \u001b[0;34m[\u001b[0m\u001b[0;34m\"date\"\u001b[0m\u001b[0;34m,\u001b[0m \u001b[0;34m\"low\"\u001b[0m\u001b[0;34m,\u001b[0m \u001b[0;34m\"high\"\u001b[0m\u001b[0;34m,\u001b[0m \u001b[0;34m\"open\"\u001b[0m\u001b[0;34m,\u001b[0m \u001b[0;34m\"close\"\u001b[0m\u001b[0;34m,\u001b[0m \u001b[0;34m\"volume\"\u001b[0m\u001b[0;34m]\u001b[0m\u001b[0;34m\u001b[0m\u001b[0;34m\u001b[0m\u001b[0m\n\u001b[0m",
      "\u001b[0;32m/opt/anaconda3/envs/pyvizenv/lib/python3.7/site-packages/pandas/core/generic.py\u001b[0m in \u001b[0;36m__setattr__\u001b[0;34m(self, name, value)\u001b[0m\n\u001b[1;32m   5078\u001b[0m         \u001b[0;32mtry\u001b[0m\u001b[0;34m:\u001b[0m\u001b[0;34m\u001b[0m\u001b[0;34m\u001b[0m\u001b[0m\n\u001b[1;32m   5079\u001b[0m             \u001b[0mobject\u001b[0m\u001b[0;34m.\u001b[0m\u001b[0m__getattribute__\u001b[0m\u001b[0;34m(\u001b[0m\u001b[0mself\u001b[0m\u001b[0;34m,\u001b[0m \u001b[0mname\u001b[0m\u001b[0;34m)\u001b[0m\u001b[0;34m\u001b[0m\u001b[0;34m\u001b[0m\u001b[0m\n\u001b[0;32m-> 5080\u001b[0;31m             \u001b[0;32mreturn\u001b[0m \u001b[0mobject\u001b[0m\u001b[0;34m.\u001b[0m\u001b[0m__setattr__\u001b[0m\u001b[0;34m(\u001b[0m\u001b[0mself\u001b[0m\u001b[0;34m,\u001b[0m \u001b[0mname\u001b[0m\u001b[0;34m,\u001b[0m \u001b[0mvalue\u001b[0m\u001b[0;34m)\u001b[0m\u001b[0;34m\u001b[0m\u001b[0;34m\u001b[0m\u001b[0m\n\u001b[0m\u001b[1;32m   5081\u001b[0m         \u001b[0;32mexcept\u001b[0m \u001b[0mAttributeError\u001b[0m\u001b[0;34m:\u001b[0m\u001b[0;34m\u001b[0m\u001b[0;34m\u001b[0m\u001b[0m\n\u001b[1;32m   5082\u001b[0m             \u001b[0;32mpass\u001b[0m\u001b[0;34m\u001b[0m\u001b[0;34m\u001b[0m\u001b[0m\n",
      "\u001b[0;32mpandas/_libs/properties.pyx\u001b[0m in \u001b[0;36mpandas._libs.properties.AxisProperty.__set__\u001b[0;34m()\u001b[0m\n",
      "\u001b[0;32m/opt/anaconda3/envs/pyvizenv/lib/python3.7/site-packages/pandas/core/generic.py\u001b[0m in \u001b[0;36m_set_axis\u001b[0;34m(self, axis, labels)\u001b[0m\n\u001b[1;32m    636\u001b[0m \u001b[0;34m\u001b[0m\u001b[0m\n\u001b[1;32m    637\u001b[0m     \u001b[0;32mdef\u001b[0m \u001b[0m_set_axis\u001b[0m\u001b[0;34m(\u001b[0m\u001b[0mself\u001b[0m\u001b[0;34m,\u001b[0m \u001b[0maxis\u001b[0m\u001b[0;34m,\u001b[0m \u001b[0mlabels\u001b[0m\u001b[0;34m)\u001b[0m\u001b[0;34m:\u001b[0m\u001b[0;34m\u001b[0m\u001b[0;34m\u001b[0m\u001b[0m\n\u001b[0;32m--> 638\u001b[0;31m         \u001b[0mself\u001b[0m\u001b[0;34m.\u001b[0m\u001b[0m_data\u001b[0m\u001b[0;34m.\u001b[0m\u001b[0mset_axis\u001b[0m\u001b[0;34m(\u001b[0m\u001b[0maxis\u001b[0m\u001b[0;34m,\u001b[0m \u001b[0mlabels\u001b[0m\u001b[0;34m)\u001b[0m\u001b[0;34m\u001b[0m\u001b[0;34m\u001b[0m\u001b[0m\n\u001b[0m\u001b[1;32m    639\u001b[0m         \u001b[0mself\u001b[0m\u001b[0;34m.\u001b[0m\u001b[0m_clear_item_cache\u001b[0m\u001b[0;34m(\u001b[0m\u001b[0;34m)\u001b[0m\u001b[0;34m\u001b[0m\u001b[0;34m\u001b[0m\u001b[0m\n\u001b[1;32m    640\u001b[0m \u001b[0;34m\u001b[0m\u001b[0m\n",
      "\u001b[0;32m/opt/anaconda3/envs/pyvizenv/lib/python3.7/site-packages/pandas/core/internals/managers.py\u001b[0m in \u001b[0;36mset_axis\u001b[0;34m(self, axis, new_labels)\u001b[0m\n\u001b[1;32m    153\u001b[0m             raise ValueError(\n\u001b[1;32m    154\u001b[0m                 \u001b[0;34m'Length mismatch: Expected axis has {old} elements, new '\u001b[0m\u001b[0;34m\u001b[0m\u001b[0;34m\u001b[0m\u001b[0m\n\u001b[0;32m--> 155\u001b[0;31m                 'values have {new} elements'.format(old=old_len, new=new_len))\n\u001b[0m\u001b[1;32m    156\u001b[0m \u001b[0;34m\u001b[0m\u001b[0m\n\u001b[1;32m    157\u001b[0m         \u001b[0mself\u001b[0m\u001b[0;34m.\u001b[0m\u001b[0maxes\u001b[0m\u001b[0;34m[\u001b[0m\u001b[0maxis\u001b[0m\u001b[0;34m]\u001b[0m \u001b[0;34m=\u001b[0m \u001b[0mnew_labels\u001b[0m\u001b[0;34m\u001b[0m\u001b[0;34m\u001b[0m\u001b[0m\n",
      "\u001b[0;31mValueError\u001b[0m: Length mismatch: Expected axis has 0 elements, new values have 6 elements"
     ]
    }
   ],
   "source": [
    "ada_df_q1.columns = [\"date\", \"low\", \"high\", \"open\", \"close\", \"volume\"]"
   ]
  },
  {
   "cell_type": "code",
   "execution_count": 28,
   "id": "592f8ac3",
   "metadata": {},
   "outputs": [
    {
     "data": {
      "text/html": [
       "<div>\n",
       "<style scoped>\n",
       "    .dataframe tbody tr th:only-of-type {\n",
       "        vertical-align: middle;\n",
       "    }\n",
       "\n",
       "    .dataframe tbody tr th {\n",
       "        vertical-align: top;\n",
       "    }\n",
       "\n",
       "    .dataframe thead th {\n",
       "        text-align: right;\n",
       "    }\n",
       "</style>\n",
       "<table border=\"1\" class=\"dataframe\">\n",
       "  <thead>\n",
       "    <tr style=\"text-align: right;\">\n",
       "      <th></th>\n",
       "    </tr>\n",
       "  </thead>\n",
       "  <tbody>\n",
       "  </tbody>\n",
       "</table>\n",
       "</div>"
      ],
      "text/plain": [
       "Empty DataFrame\n",
       "Columns: []\n",
       "Index: []"
      ]
     },
     "execution_count": 28,
     "metadata": {},
     "output_type": "execute_result"
    }
   ],
   "source": []
  },
  {
   "cell_type": "code",
   "execution_count": null,
   "id": "7d8330bc",
   "metadata": {},
   "outputs": [],
   "source": []
  },
  {
   "cell_type": "code",
   "execution_count": null,
   "id": "0f95be64",
   "metadata": {},
   "outputs": [],
   "source": [
    "ada_df_q1.set_index(\"date\")"
   ]
  },
  {
   "cell_type": "code",
   "execution_count": null,
   "id": "cc0eafc7",
   "metadata": {},
   "outputs": [],
   "source": [
    "ada_df_q1[\"date\"] = pd.to_datetime(eth_df_q1[\"date\"], unit='s')"
   ]
  },
  {
   "cell_type": "code",
   "execution_count": null,
   "id": "d1e06ae7",
   "metadata": {},
   "outputs": [],
   "source": [
    "ada_df_q1 = ada_df_q1.iloc[:,[0, 4]]"
   ]
  },
  {
   "cell_type": "code",
   "execution_count": null,
   "id": "51e4dc1d",
   "metadata": {},
   "outputs": [],
   "source": [
    "ada_df_q1.set_index(\"date\")"
   ]
  },
  {
   "cell_type": "code",
   "execution_count": null,
   "id": "50602710",
   "metadata": {},
   "outputs": [],
   "source": [
    "ada_df_q2.columns = [\"date\", \"low\", \"high\", \"open\", \"close\", \"volume\"]"
   ]
  },
  {
   "cell_type": "code",
   "execution_count": null,
   "id": "1f58d333",
   "metadata": {},
   "outputs": [],
   "source": [
    "ada_df_q2.set_index(\"date\")"
   ]
  },
  {
   "cell_type": "code",
   "execution_count": null,
   "id": "3d798298",
   "metadata": {},
   "outputs": [],
   "source": [
    "ada_df_q2[\"date\"] = pd.to_datetime(eth_df_q2[\"date\"], unit='s')"
   ]
  },
  {
   "cell_type": "code",
   "execution_count": null,
   "id": "f1b5a61d",
   "metadata": {},
   "outputs": [],
   "source": [
    "ada_df_q2 = eth_df_q2.iloc[:,[0, 4]]"
   ]
  },
  {
   "cell_type": "code",
   "execution_count": null,
   "id": "b1c86411",
   "metadata": {},
   "outputs": [],
   "source": [
    "ada_df_q2.set_index('date')"
   ]
  },
  {
   "cell_type": "code",
   "execution_count": null,
   "id": "0385c189",
   "metadata": {},
   "outputs": [],
   "source": [
    "ada_df_q3.columns = [\"date\", \"low\", \"high\", \"open\", \"close\", \"volume\"]"
   ]
  },
  {
   "cell_type": "code",
   "execution_count": null,
   "id": "38c0bc53",
   "metadata": {},
   "outputs": [],
   "source": [
    "ada_df_q3[\"date\"] = pd.to_datetime(eth_df_q3[\"date\"], unit='s')"
   ]
  },
  {
   "cell_type": "code",
   "execution_count": null,
   "id": "572fcf92",
   "metadata": {},
   "outputs": [],
   "source": [
    "ada_df_q3 = ada_df_q3.iloc[:,[0, 4]]"
   ]
  },
  {
   "cell_type": "code",
   "execution_count": null,
   "id": "a082b493",
   "metadata": {},
   "outputs": [],
   "source": [
    "ada_df_q3.set_index('date')"
   ]
  },
  {
   "cell_type": "code",
   "execution_count": null,
   "id": "74f7d9fb",
   "metadata": {},
   "outputs": [],
   "source": [
    "ada_df_q4.columns = [\"date\", \"low\", \"high\", \"open\", \"close\", \"volume\"]"
   ]
  },
  {
   "cell_type": "code",
   "execution_count": null,
   "id": "3a41877b",
   "metadata": {},
   "outputs": [],
   "source": [
    "ada_df_q4.columns = [\"date\", \"low\", \"high\", \"open\", \"close\", \"volume\"]"
   ]
  },
  {
   "cell_type": "code",
   "execution_count": null,
   "id": "e5e87248",
   "metadata": {},
   "outputs": [],
   "source": [
    "ada_df_q4 = eth_df_q4.iloc[:,[0, 4]]"
   ]
  },
  {
   "cell_type": "code",
   "execution_count": null,
   "id": "449cda44",
   "metadata": {},
   "outputs": [],
   "source": [
    "ada_df_q4.set_index('date')"
   ]
  },
  {
   "cell_type": "code",
   "execution_count": null,
   "id": "def99e31",
   "metadata": {},
   "outputs": [],
   "source": [
    "ada_data = pd.concat([eth_df_q1,eth_df_q2,eth_df_q3,eth_df_q4], join='inner',axis='rows')"
   ]
  },
  {
   "cell_type": "code",
   "execution_count": null,
   "id": "51b0de2a",
   "metadata": {},
   "outputs": [],
   "source": [
    "ada_data.set_index('date')"
   ]
  },
  {
   "cell_type": "code",
   "execution_count": null,
   "id": "429ef858",
   "metadata": {},
   "outputs": [],
   "source": []
  },
  {
   "cell_type": "code",
   "execution_count": null,
   "id": "8170d0d4",
   "metadata": {},
   "outputs": [],
   "source": []
  },
  {
   "cell_type": "code",
   "execution_count": null,
   "id": "81621d67",
   "metadata": {},
   "outputs": [],
   "source": []
  },
  {
   "cell_type": "code",
   "execution_count": null,
   "id": "f5c0a470",
   "metadata": {},
   "outputs": [],
   "source": []
  },
  {
   "cell_type": "code",
   "execution_count": null,
   "id": "45bcf17d",
   "metadata": {},
   "outputs": [],
   "source": []
  }
 ],
 "metadata": {
  "kernelspec": {
   "display_name": "Python [conda env:pyvizenv] *",
   "language": "python",
   "name": "conda-env-pyvizenv-py"
  },
  "language_info": {
   "codemirror_mode": {
    "name": "ipython",
    "version": 3
   },
   "file_extension": ".py",
   "mimetype": "text/x-python",
   "name": "python",
   "nbconvert_exporter": "python",
   "pygments_lexer": "ipython3",
   "version": "3.7.10"
  }
 },
 "nbformat": 4,
 "nbformat_minor": 5
}
